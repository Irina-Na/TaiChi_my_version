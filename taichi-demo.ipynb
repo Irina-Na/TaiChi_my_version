{
 "cells": [
  {
   "cell_type": "code",
   "execution_count": 1,
   "metadata": {},
   "outputs": [],
   "source": [
    "from taichi import uslp, dnnc"
   ]
  },
  {
   "cell_type": "code",
   "execution_count": 2,
   "metadata": {},
   "outputs": [],
   "source": [
    "uslp = uslp.USLP()"
   ]
  },
  {
   "cell_type": "code",
   "execution_count": 3,
   "metadata": {},
   "outputs": [
    {
     "name": "stderr",
     "output_type": "stream",
     "text": [
      "11/09/2021 16:13:28 - INFO - taichi.uslp -   config:{'bert_model': 'roberta-base', 'checkpoint_dir': '/export/home/sharvin-scratchpad/taichi-internal/model/roberta-base/uslp', 'train_data_path': '/export/share/sharvin/clinc150_uci/5-shot/train.csv', 'test_data_path': '/export/share/sharvin/clinc150_uci/5-shot/test.csv', 'ood_train_data_path': '/export/share/sharvin/clinc150_uci/5-shot/ood_perturbed_train.csv', 'ood_test_data_path': '/export/share/sharvin/clinc150_uci/5-shot/ood_perturbed_test.csv', 'freeze_embedding': False, 'gradient_accumulation_steps': 1, 'learning_rate': 5e-05, 'no_cuda': False, 'num_train_epochs': 100, 'pretrained_model_path': '/export/share/jqu/taichi-assets/roberta_base_nli_emnlp2021', 'save_result_fp': '/export/share/sharvin/clinc150_uci/5-shot/uslp_inference.json', 'saved_model_path': '/export/home/sharvin-scratchpad/taichi-internal/model/roberta-base/uslp', 'seed': 42, 'test_batch_size': 128, 'train_batch_size': 128, 'transform_labels': False, 'warmup_proportion': 0.1, 'weight_decay': 0.0001, 'threshold': 0.01, 'error_analysis': False, 'error_analysis_dir': '/export/share/sharvin/clinc150_uci/5-shot/uslp_error_analysis'}\n",
      "11/09/2021 16:13:28 - INFO - taichi.uslp -   device: cuda\n"
     ]
    }
   ],
   "source": [
    "uslp.init()"
   ]
  },
  {
   "cell_type": "code",
   "execution_count": 4,
   "metadata": {
    "scrolled": false
   },
   "outputs": [
    {
     "name": "stderr",
     "output_type": "stream",
     "text": [
      "11/09/2021 16:13:40 - INFO - taichi.uslp -   ***** Running training *****\n",
      "11/09/2021 16:13:40 - INFO - taichi.uslp -     Num positive examples = 750\n",
      "11/09/2021 16:13:40 - INFO - taichi.uslp -     Batch size = 128\n",
      "11/09/2021 16:13:40 - INFO - taichi.uslp -     Num steps = 1200\n"
     ]
    },
    {
     "data": {
      "application/vnd.jupyter.widget-view+json": {
       "model_id": "4b97860396bc4459b1d1bd19f225e530",
       "version_major": 2,
       "version_minor": 0
      },
      "text/plain": [
       "HBox(children=(HTML(value=''), FloatProgress(value=0.0, layout=Layout(flex='2'), max=1200.0), HTML(value='')),…"
      ]
     },
     "metadata": {},
     "output_type": "display_data"
    },
    {
     "name": "stdout",
     "output_type": "stream",
     "text": [
      "\n"
     ]
    }
   ],
   "source": [
    "uslp.train()"
   ]
  },
  {
   "cell_type": "code",
   "execution_count": 5,
   "metadata": {},
   "outputs": [
    {
     "data": {
      "application/vnd.jupyter.widget-view+json": {
       "model_id": "da68f1b3c4ab43d48c26eedb06fa597c",
       "version_major": 2,
       "version_minor": 0
      },
      "text/plain": [
       "HBox(children=(HTML(value=''), FloatProgress(value=0.0, max=5274.0), HTML(value='')))"
      ]
     },
     "metadata": {},
     "output_type": "display_data"
    },
    {
     "name": "stdout",
     "output_type": "stream",
     "text": [
      "\n"
     ]
    },
    {
     "name": "stderr",
     "output_type": "stream",
     "text": [
      "11/09/2021 16:33:33 - INFO - taichi.uslp -   in-domain eval at 0.01 threshold: (0.01, 0.8175555555555556, 0.8479046506284187, 0.8187637969094922, 0.8154747765921782)\n"
     ]
    },
    {
     "data": {
      "application/vnd.jupyter.widget-view+json": {
       "model_id": "22fa033ba1e643a2ad83ad4467c2dd23",
       "version_major": 2,
       "version_minor": 0
      },
      "text/plain": [
       "HBox(children=(HTML(value=''), FloatProgress(value=0.0, max=1172.0), HTML(value='')))"
      ]
     },
     "metadata": {},
     "output_type": "display_data"
    },
    {
     "name": "stdout",
     "output_type": "stream",
     "text": [
      "\n"
     ]
    },
    {
     "name": "stderr",
     "output_type": "stream",
     "text": [
      "11/09/2021 16:36:07 - INFO - taichi.uslp -   ood eval at 0.01 threshold: (0.01, 0.563)\n",
      "11/09/2021 16:36:07 - INFO - taichi.uslp -   ******************\n"
     ]
    }
   ],
   "source": [
    "uslp.eval()"
   ]
  },
  {
   "cell_type": "code",
   "execution_count": 6,
   "metadata": {},
   "outputs": [],
   "source": [
    "dnnc = dnnc.DNNC()"
   ]
  },
  {
   "cell_type": "code",
   "execution_count": 7,
   "metadata": {},
   "outputs": [
    {
     "name": "stderr",
     "output_type": "stream",
     "text": [
      "11/09/2021 16:36:07 - INFO - taichi.dnnc -   config: {'bert_model': 'roberta-base', 'checkpoint_dir': '/export/home/sharvin-scratchpad/taichi-internal/model/roberta-base/dnnc', 'train_data_path': '/export/share/sharvin/clinc150_uci/5-shot/train.csv', 'test_data_path': '/export/share/sharvin/clinc150_uci/5-shot/test.csv', 'ood_train_data_path': '/export/share/sharvin/clinc150_uci/5-shot/ood_perturbed_train.csv', 'ood_test_data_path': '/export/share/sharvin/clinc150_uci/5-shot/ood_perturbed_test.csv', 'freeze_embedding': False, 'gradient_accumulation_steps': 1, 'learning_rate': 5e-05, 'no_cuda': False, 'num_train_epochs': 100, 'pretrained_model_path': '/export/share/jqu/taichi-assets/roberta_base_nli_emnlp2021', 'save_result_fp': '/export/share/sharvin/clinc150_uci/5-shot/dnnc_inference.json', 'saved_model_path': '/export/home/sharvin-scratchpad/taichi-internal/model/roberta-base/dnnc', 'seed': 42, 'test_batch_size': 128, 'train_batch_size': 128, 'transform_labels': False, 'warmup_proportion': 0.1, 'weight_decay': 0.0001, 'threshold': 0.01, 'error_analysis': False, 'error_analysis_dir': '/export/share/sharvin/clinc150_uci/5-shot/dnnc_error_analysis'}\n",
      "11/09/2021 16:36:07 - INFO - taichi.dnnc -   device: cuda\n"
     ]
    }
   ],
   "source": [
    "dnnc.init()"
   ]
  },
  {
   "cell_type": "code",
   "execution_count": 8,
   "metadata": {},
   "outputs": [
    {
     "name": "stderr",
     "output_type": "stream",
     "text": [
      "11/09/2021 16:36:33 - INFO - root -   ***** Running training *****\n",
      "11/09/2021 16:36:33 - INFO - root -     Num positive examples = 750\n",
      "11/09/2021 16:36:33 - INFO - root -     Batch size = 128\n",
      "11/09/2021 16:36:33 - INFO - root -     Num steps = 4700\n"
     ]
    },
    {
     "data": {
      "application/vnd.jupyter.widget-view+json": {
       "model_id": "a20e688637fb4666bb29e854b28126a9",
       "version_major": 2,
       "version_minor": 0
      },
      "text/plain": [
       "HBox(children=(HTML(value=''), FloatProgress(value=0.0, layout=Layout(flex='2'), max=4700.0), HTML(value='')),…"
      ]
     },
     "metadata": {},
     "output_type": "display_data"
    },
    {
     "name": "stdout",
     "output_type": "stream",
     "text": [
      "\n"
     ]
    }
   ],
   "source": [
    "dnnc.train()"
   ]
  },
  {
   "cell_type": "code",
   "execution_count": 9,
   "metadata": {},
   "outputs": [
    {
     "name": "stdout",
     "output_type": "stream",
     "text": [
      "appended all data\n",
      "features done\n"
     ]
    },
    {
     "data": {
      "application/vnd.jupyter.widget-view+json": {
       "model_id": "f950df6a247248c1b97f32b00e2f86fe",
       "version_major": 2,
       "version_minor": 0
      },
      "text/plain": [
       "HBox(children=(HTML(value=''), FloatProgress(value=0.0, max=26368.0), HTML(value='')))"
      ]
     },
     "metadata": {},
     "output_type": "display_data"
    },
    {
     "name": "stdout",
     "output_type": "stream",
     "text": [
      "\n"
     ]
    },
    {
     "name": "stderr",
     "output_type": "stream",
     "text": [
      "11/09/2021 18:10:40 - INFO - taichi.dnnc -   in-domain eval: (0.01, 0.8973333333333333, 0.9154605656804815, 0.8980132450331128, 0.8991858868430205)\n"
     ]
    },
    {
     "data": {
      "application/vnd.jupyter.widget-view+json": {
       "model_id": "0322a20937b54cc1a4283eee935639ec",
       "version_major": 2,
       "version_minor": 0
      },
      "text/plain": [
       "HBox(children=(HTML(value=''), FloatProgress(value=0.0, max=5860.0), HTML(value='')))"
      ]
     },
     "metadata": {},
     "output_type": "display_data"
    },
    {
     "name": "stdout",
     "output_type": "stream",
     "text": [
      "\n"
     ]
    },
    {
     "name": "stderr",
     "output_type": "stream",
     "text": [
      "11/09/2021 18:23:41 - INFO - taichi.dnnc -   ood eval: (0.01, 0.708)\n",
      "11/09/2021 18:23:41 - INFO - taichi.dnnc -   ******************\n"
     ]
    }
   ],
   "source": [
    "dnnc.eval()"
   ]
  },
  {
   "cell_type": "code",
   "execution_count": null,
   "metadata": {},
   "outputs": [],
   "source": []
  }
 ],
 "metadata": {
  "kernelspec": {
   "display_name": "Python 3",
   "language": "python",
   "name": "python3"
  },
  "language_info": {
   "codemirror_mode": {
    "name": "ipython",
    "version": 3
   },
   "file_extension": ".py",
   "mimetype": "text/x-python",
   "name": "python",
   "nbconvert_exporter": "python",
   "pygments_lexer": "ipython3",
   "version": "3.6.10"
  }
 },
 "nbformat": 4,
 "nbformat_minor": 4
}
