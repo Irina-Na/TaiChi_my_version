{
 "cells": [
  {
   "cell_type": "code",
   "execution_count": 1,
   "metadata": {},
   "outputs": [],
   "source": [
    "from taichi import uslp, dnnc"
   ]
  },
  {
   "cell_type": "code",
   "execution_count": 2,
   "metadata": {},
   "outputs": [],
   "source": [
    "uslp = uslp.USLP()"
   ]
  },
  {
   "cell_type": "code",
   "execution_count": 3,
   "metadata": {},
   "outputs": [
    {
     "name": "stderr",
     "output_type": "stream",
     "text": [
      "09/16/2021 05:27:29 - INFO - taichi.uslp -   config:{'bert_model': 'xlm-roberta-base', 'checkpoint_dir': '/export/home/sharvin-scratchpad/taichi-internal/model', 'data_aug': False, 'data_dir': '/export/share/jqu/few_shot-236-assets/data/appen_use/10-sample', 'freeze_embedding': False, 'gradient_accumulation_steps': 1, 'language': 'use', 'layerdrop': False, 'learning_rate': 5e-05, 'no_cuda': False, 'num_train_epochs': 150, 'pretrained_model_path': '/export/share/jqu/few_shot-236-assets/minilm_nli/', 'save_result_fp': '/export/home/sharvin-scratchpad/taichi-internal/results/use_inference.json', 'saved_model_path': '/export/home/sharvin-scratchpad/taichi-internal/model', 'seed': 42, 'test_batch_size': 128, 'train_batch_size': 64, 'transform_labels': False, 'warmup_proportion': 0.1, 'weight_decay': 0.0001}\n"
     ]
    },
    {
     "name": "stdout",
     "output_type": "stream",
     "text": [
      "device: cuda\n"
     ]
    }
   ],
   "source": [
    "uslp.init()"
   ]
  },
  {
   "cell_type": "code",
   "execution_count": 4,
   "metadata": {
    "scrolled": false
   },
   "outputs": [
    {
     "name": "stderr",
     "output_type": "stream",
     "text": [
      "09/16/2021 05:27:41 - INFO - taichi.uslp -   ***** Running training *****\n",
      "09/16/2021 05:27:41 - INFO - taichi.uslp -     Num positive examples = 400\n",
      "09/16/2021 05:27:41 - INFO - taichi.uslp -     Batch size = 64\n",
      "09/16/2021 05:27:41 - INFO - taichi.uslp -     Num steps = 1950\n"
     ]
    },
    {
     "data": {
      "application/vnd.jupyter.widget-view+json": {
       "model_id": "7cc6571a20ca48f5b65e7a388157be65",
       "version_major": 2,
       "version_minor": 0
      },
      "text/plain": [
       "HBox(children=(HTML(value=''), FloatProgress(value=0.0, layout=Layout(flex='2'), max=1950.0), HTML(value='')),…"
      ]
     },
     "metadata": {},
     "output_type": "display_data"
    },
    {
     "name": "stdout",
     "output_type": "stream",
     "text": [
      "\n"
     ]
    }
   ],
   "source": [
    "uslp.train()"
   ]
  },
  {
   "cell_type": "code",
   "execution_count": 5,
   "metadata": {},
   "outputs": [
    {
     "data": {
      "application/vnd.jupyter.widget-view+json": {
       "model_id": "b21f5a0821f241c394f8be34ffddb634",
       "version_major": 2,
       "version_minor": 0
      },
      "text/plain": [
       "HBox(children=(HTML(value=''), FloatProgress(value=0.0, max=383.0), HTML(value='')))"
      ]
     },
     "metadata": {},
     "output_type": "display_data"
    },
    {
     "name": "stdout",
     "output_type": "stream",
     "text": [
      "\n"
     ]
    },
    {
     "name": "stderr",
     "output_type": "stream",
     "text": [
      "09/16/2021 05:31:52 - INFO - taichi.uslp -   in-domain eval at 0.01 threshold: (0.01, 0.6506122448979592, 0.6780762217806887, 0.6628574415713641, 0.650985292383878)\n"
     ]
    },
    {
     "data": {
      "application/vnd.jupyter.widget-view+json": {
       "model_id": "f5df058e287d4948a1d15c7c83bcff6f",
       "version_major": 2,
       "version_minor": 0
      },
      "text/plain": [
       "HBox(children=(HTML(value=''), FloatProgress(value=0.0, max=508.0), HTML(value='')))"
      ]
     },
     "metadata": {},
     "output_type": "display_data"
    },
    {
     "name": "stdout",
     "output_type": "stream",
     "text": [
      "\n"
     ]
    },
    {
     "name": "stderr",
     "output_type": "stream",
     "text": [
      "09/16/2021 05:32:17 - INFO - taichi.uslp -   ood eval at 0.01 threshold: (0.01, 0.7784615384615384)\n",
      "09/16/2021 05:32:17 - INFO - taichi.uslp -   ******************\n"
     ]
    }
   ],
   "source": [
    "uslp.eval()"
   ]
  },
  {
   "cell_type": "code",
   "execution_count": 6,
   "metadata": {},
   "outputs": [],
   "source": [
    "dnnc = dnnc.DNNC()"
   ]
  },
  {
   "cell_type": "code",
   "execution_count": 7,
   "metadata": {},
   "outputs": [
    {
     "name": "stderr",
     "output_type": "stream",
     "text": [
      "09/16/2021 05:32:41 - INFO - taichi.dnnc -   config: {'bert_model': 'xlm-roberta-base', 'checkpoint_dir': '/export/home/sharvin-scratchpad/taichi-internal/model', 'data_aug': False, 'data_dir': '/export/share/jqu/few_shot-236-assets/data/appen_use/10-sample', 'freeze_embedding': False, 'gradient_accumulation_steps': 1, 'language': 'use', 'layerdrop': False, 'learning_rate': 5e-05, 'no_cuda': False, 'num_train_epochs': 10, 'pretrained_model_path': '/export/share/jqu/few_shot-236-assets/minilm_nli/', 'save_result_fp': '/export/home/sharvin-scratchpad/taichi-internal/results/dnnc_use_inference.json', 'saved_model_path': '/export/home/sharvin-scratchpad/taichi-internal/model', 'seed': 42, 'test_batch_size': 128, 'train_batch_size': 32, 'transform_labels': False, 'warmup_proportion': 0.1, 'weight_decay': 0.0001}\n",
      "09/16/2021 05:32:41 - INFO - taichi.dnnc -   device: cuda\n"
     ]
    }
   ],
   "source": [
    "dnnc.init()"
   ]
  },
  {
   "cell_type": "code",
   "execution_count": 8,
   "metadata": {},
   "outputs": [
    {
     "name": "stderr",
     "output_type": "stream",
     "text": [
      "09/16/2021 05:33:29 - INFO - root -   ***** Running training *****\n",
      "09/16/2021 05:33:29 - INFO - root -     Num positive examples = 400\n",
      "09/16/2021 05:33:29 - INFO - root -     Batch size = 32\n",
      "09/16/2021 05:33:29 - INFO - root -     Num steps = 2250\n"
     ]
    },
    {
     "data": {
      "application/vnd.jupyter.widget-view+json": {
       "model_id": "5e4a10e85289448e97824446715d8376",
       "version_major": 2,
       "version_minor": 0
      },
      "text/plain": [
       "HBox(children=(HTML(value=''), FloatProgress(value=0.0, layout=Layout(flex='2'), max=2250.0), HTML(value='')),…"
      ]
     },
     "metadata": {},
     "output_type": "display_data"
    },
    {
     "name": "stdout",
     "output_type": "stream",
     "text": [
      "\n"
     ]
    }
   ],
   "source": [
    "dnnc.train()"
   ]
  },
  {
   "cell_type": "code",
   "execution_count": 9,
   "metadata": {},
   "outputs": [
    {
     "data": {
      "application/vnd.jupyter.widget-view+json": {
       "model_id": "0dc62806da92498b94c31d28b1378bed",
       "version_major": 2,
       "version_minor": 0
      },
      "text/plain": [
       "HBox(children=(HTML(value=''), FloatProgress(value=0.0, max=3829.0), HTML(value='')))"
      ]
     },
     "metadata": {},
     "output_type": "display_data"
    },
    {
     "name": "stdout",
     "output_type": "stream",
     "text": [
      "\n"
     ]
    },
    {
     "name": "stderr",
     "output_type": "stream",
     "text": [
      "09/16/2021 05:41:01 - INFO - taichi.dnnc -   in-domain eval: (0.01, 0.6530612244897959, 0.6679191717847328, 0.6571410251392189, 0.6564503598569664)\n"
     ]
    },
    {
     "data": {
      "application/vnd.jupyter.widget-view+json": {
       "model_id": "8d61d5725e874f82a61b96dc761faeed",
       "version_major": 2,
       "version_minor": 0
      },
      "text/plain": [
       "HBox(children=(HTML(value=''), FloatProgress(value=0.0, max=5079.0), HTML(value='')))"
      ]
     },
     "metadata": {},
     "output_type": "display_data"
    },
    {
     "name": "stdout",
     "output_type": "stream",
     "text": [
      "\n"
     ]
    },
    {
     "name": "stderr",
     "output_type": "stream",
     "text": [
      "09/16/2021 05:45:09 - INFO - taichi.dnnc -   ood eval: (0.01, 0.3889230769230769)\n",
      "09/16/2021 05:45:09 - INFO - taichi.dnnc -   ******************\n"
     ]
    }
   ],
   "source": [
    "dnnc.eval()"
   ]
  },
  {
   "cell_type": "code",
   "execution_count": null,
   "metadata": {},
   "outputs": [],
   "source": []
  }
 ],
 "metadata": {
  "kernelspec": {
   "display_name": "Python 3",
   "language": "python",
   "name": "python3"
  },
  "language_info": {
   "codemirror_mode": {
    "name": "ipython",
    "version": 3
   },
   "file_extension": ".py",
   "mimetype": "text/x-python",
   "name": "python",
   "nbconvert_exporter": "python",
   "pygments_lexer": "ipython3",
   "version": "3.6.10"
  }
 },
 "nbformat": 4,
 "nbformat_minor": 4
}
