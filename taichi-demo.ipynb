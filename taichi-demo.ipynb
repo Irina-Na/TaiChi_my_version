{
 "cells": [
  {
   "cell_type": "code",
   "execution_count": 10,
   "metadata": {},
   "outputs": [],
   "source": [
    "from taichi import uslp, dnnc"
   ]
  },
  {
   "cell_type": "code",
   "execution_count": 11,
   "metadata": {},
   "outputs": [],
   "source": [
    "uslp = uslp.USLP()"
   ]
  },
  {
   "cell_type": "code",
   "execution_count": 12,
   "metadata": {},
   "outputs": [
    {
     "name": "stderr",
     "output_type": "stream",
     "text": [
      "11/10/2021 05:10:22 - INFO - taichi.uslp -   config:{'bert_model': 'roberta-base', 'checkpoint_dir': '/export/home/sharvin-scratchpad/taichi-internal/model/roberta-base/uslp', 'train_data_path': '/export/share/sharvin/clinc150_uci/5-shot/train.csv', 'test_data_path': '/export/share/sharvin/clinc150_uci/5-shot/test.csv', 'ood_train_data_path': '/export/share/sharvin/clinc150_uci/5-shot/ood_perturbed_train.csv', 'ood_test_data_path': '/export/share/sharvin/clinc150_uci/5-shot/ood_perturbed_test.csv', 'freeze_embedding': False, 'gradient_accumulation_steps': 1, 'learning_rate': 5e-05, 'no_cuda': False, 'num_train_epochs': 200, 'pretrained_model_path': '/export/share/jqu/taichi-assets/roberta_base_nli_emnlp2021', 'save_result_fp': '/export/share/sharvin/clinc150_uci/5-shot/uslp_inference.json', 'saved_model_path': '/export/home/sharvin-scratchpad/taichi-internal/model/roberta-base/uslp', 'seed': 42, 'test_batch_size': 128, 'train_batch_size': 128, 'transform_labels': False, 'warmup_proportion': 0.1, 'weight_decay': 0.0001, 'threshold': 0.01, 'error_analysis': False, 'error_analysis_dir': '/export/share/sharvin/clinc150_uci/5-shot/uslp_error_analysis'}\n",
      "11/10/2021 05:10:22 - INFO - taichi.uslp -   device: cuda\n"
     ]
    }
   ],
   "source": [
    "uslp.init()"
   ]
  },
  {
   "cell_type": "code",
   "execution_count": 13,
   "metadata": {
    "scrolled": false
   },
   "outputs": [
    {
     "name": "stderr",
     "output_type": "stream",
     "text": [
      "11/10/2021 05:10:28 - INFO - taichi.uslp -   ***** Running training *****\n",
      "11/10/2021 05:10:28 - INFO - taichi.uslp -     Num positive examples = 750\n",
      "11/10/2021 05:10:28 - INFO - taichi.uslp -     Batch size = 128\n",
      "11/10/2021 05:10:28 - INFO - taichi.uslp -     Num steps = 2400\n"
     ]
    },
    {
     "data": {
      "application/vnd.jupyter.widget-view+json": {
       "model_id": "6f121be0ea64495f995bfce31b435275",
       "version_major": 2,
       "version_minor": 0
      },
      "text/plain": [
       "HBox(children=(HTML(value=''), FloatProgress(value=0.0, layout=Layout(flex='2'), max=2400.0), HTML(value='')),…"
      ]
     },
     "metadata": {},
     "output_type": "display_data"
    },
    {
     "name": "stdout",
     "output_type": "stream",
     "text": [
      "\n"
     ]
    }
   ],
   "source": [
    "uslp.train()"
   ]
  },
  {
   "cell_type": "code",
   "execution_count": 14,
   "metadata": {},
   "outputs": [
    {
     "data": {
      "application/vnd.jupyter.widget-view+json": {
       "model_id": "b1f6b01a3c0649bb87f53b3de4f85855",
       "version_major": 2,
       "version_minor": 0
      },
      "text/plain": [
       "HBox(children=(HTML(value=''), FloatProgress(value=0.0, max=5274.0), HTML(value='')))"
      ]
     },
     "metadata": {},
     "output_type": "display_data"
    },
    {
     "name": "stdout",
     "output_type": "stream",
     "text": [
      "\n"
     ]
    },
    {
     "name": "stderr",
     "output_type": "stream",
     "text": [
      "11/10/2021 05:18:29 - INFO - taichi.uslp -   in-domain eval at 0.01 threshold: (0.01, 0.8511111111111112, 0.8788779469783246, 0.8520971302428257, 0.8535091208423673)\n"
     ]
    },
    {
     "data": {
      "application/vnd.jupyter.widget-view+json": {
       "model_id": "b3a78d6d7ff74ec0a5878ac21d9e0aa7",
       "version_major": 2,
       "version_minor": 0
      },
      "text/plain": [
       "HBox(children=(HTML(value=''), FloatProgress(value=0.0, max=1172.0), HTML(value='')))"
      ]
     },
     "metadata": {},
     "output_type": "display_data"
    },
    {
     "name": "stdout",
     "output_type": "stream",
     "text": [
      "\n"
     ]
    },
    {
     "name": "stderr",
     "output_type": "stream",
     "text": [
      "11/10/2021 05:19:08 - INFO - taichi.uslp -   ood eval at 0.01 threshold: (0.01, 0.682)\n",
      "11/10/2021 05:19:08 - INFO - taichi.uslp -   ******************\n"
     ]
    }
   ],
   "source": [
    "uslp.eval()"
   ]
  },
  {
   "cell_type": "code",
   "execution_count": 6,
   "metadata": {},
   "outputs": [],
   "source": [
    "dnnc = dnnc.DNNC()"
   ]
  },
  {
   "cell_type": "code",
   "execution_count": 7,
   "metadata": {},
   "outputs": [
    {
     "name": "stderr",
     "output_type": "stream",
     "text": [
      "11/10/2021 04:19:12 - INFO - taichi.dnnc -   config: {'bert_model': 'roberta-base', 'checkpoint_dir': '/export/home/sharvin-scratchpad/taichi-internal/model/roberta-base/dnnc', 'train_data_path': '/export/share/sharvin/clinc150_uci/5-shot/train.csv', 'test_data_path': '/export/share/sharvin/clinc150_uci/5-shot/test.csv', 'ood_train_data_path': '/export/share/sharvin/clinc150_uci/5-shot/ood_perturbed_train.csv', 'ood_test_data_path': '/export/share/sharvin/clinc150_uci/5-shot/ood_perturbed_test.csv', 'freeze_embedding': False, 'gradient_accumulation_steps': 1, 'learning_rate': 5e-05, 'no_cuda': False, 'num_train_epochs': 200, 'pretrained_model_path': '/export/share/jqu/taichi-assets/roberta_base_nli_emnlp2021', 'save_result_fp': '/export/share/sharvin/clinc150_uci/5-shot/dnnc_inference.json', 'saved_model_path': '/export/home/sharvin-scratchpad/taichi-internal/model/roberta-base/dnnc', 'seed': 42, 'test_batch_size': 128, 'train_batch_size': 128, 'transform_labels': False, 'warmup_proportion': 0.1, 'weight_decay': 0.0001, 'threshold': 0.01, 'error_analysis': False, 'error_analysis_dir': '/export/share/sharvin/clinc150_uci/5-shot/dnnc_error_analysis'}\n",
      "11/10/2021 04:19:12 - INFO - taichi.dnnc -   device: cuda\n"
     ]
    }
   ],
   "source": [
    "dnnc.init()"
   ]
  },
  {
   "cell_type": "code",
   "execution_count": 8,
   "metadata": {},
   "outputs": [
    {
     "name": "stderr",
     "output_type": "stream",
     "text": [
      "11/10/2021 04:19:36 - INFO - root -   ***** Running training *****\n",
      "11/10/2021 04:19:36 - INFO - root -     Num positive examples = 750\n",
      "11/10/2021 04:19:36 - INFO - root -     Batch size = 128\n",
      "11/10/2021 04:19:36 - INFO - root -     Num steps = 9400\n"
     ]
    },
    {
     "data": {
      "application/vnd.jupyter.widget-view+json": {
       "model_id": "6d40201f84404f36b5354babf3f28f3a",
       "version_major": 2,
       "version_minor": 0
      },
      "text/plain": [
       "HBox(children=(HTML(value=''), FloatProgress(value=0.0, layout=Layout(flex='2'), max=9400.0), HTML(value='')),…"
      ]
     },
     "metadata": {},
     "output_type": "display_data"
    },
    {
     "name": "stdout",
     "output_type": "stream",
     "text": [
      "\n"
     ]
    }
   ],
   "source": [
    "dnnc.train()"
   ]
  },
  {
   "cell_type": "code",
   "execution_count": 9,
   "metadata": {},
   "outputs": [
    {
     "data": {
      "application/vnd.jupyter.widget-view+json": {
       "model_id": "4b93effb832449019d36ba8944803148",
       "version_major": 2,
       "version_minor": 0
      },
      "text/plain": [
       "HBox(children=(HTML(value=''), FloatProgress(value=0.0, max=26368.0), HTML(value='')))"
      ]
     },
     "metadata": {},
     "output_type": "display_data"
    },
    {
     "name": "stdout",
     "output_type": "stream",
     "text": [
      "\n"
     ]
    },
    {
     "name": "stderr",
     "output_type": "stream",
     "text": [
      "11/10/2021 05:02:56 - INFO - taichi.dnnc -   in-domain eval: (0.01, 0.8935555555555555, 0.9216888877162395, 0.8942604856512141, 0.8998351657596905)\n"
     ]
    },
    {
     "data": {
      "application/vnd.jupyter.widget-view+json": {
       "model_id": "71c42b0cc6314518994bbbc95b97601b",
       "version_major": 2,
       "version_minor": 0
      },
      "text/plain": [
       "HBox(children=(HTML(value=''), FloatProgress(value=0.0, max=5860.0), HTML(value='')))"
      ]
     },
     "metadata": {},
     "output_type": "display_data"
    },
    {
     "name": "stdout",
     "output_type": "stream",
     "text": [
      "\n"
     ]
    },
    {
     "name": "stderr",
     "output_type": "stream",
     "text": [
      "11/10/2021 05:06:18 - INFO - taichi.dnnc -   ood eval: (0.01, 0.76)\n",
      "11/10/2021 05:06:18 - INFO - taichi.dnnc -   ******************\n"
     ]
    }
   ],
   "source": [
    "dnnc.eval()"
   ]
  },
  {
   "cell_type": "code",
   "execution_count": null,
   "metadata": {},
   "outputs": [],
   "source": []
  }
 ],
 "metadata": {
  "kernelspec": {
   "display_name": "Python 3 (ipykernel)",
   "language": "python",
   "name": "python3"
  },
  "language_info": {
   "codemirror_mode": {
    "name": "ipython",
    "version": 3
   },
   "file_extension": ".py",
   "mimetype": "text/x-python",
   "name": "python",
   "nbconvert_exporter": "python",
   "pygments_lexer": "ipython3",
   "version": "3.8.5"
  }
 },
 "nbformat": 4,
 "nbformat_minor": 4
}
